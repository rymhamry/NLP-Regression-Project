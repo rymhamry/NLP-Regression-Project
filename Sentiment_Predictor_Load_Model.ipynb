{
 "cells": [
  {
   "cell_type": "markdown",
   "id": "5d13e495",
   "metadata": {},
   "source": [
    "# Sentiment Prediction using Trained Model (.pkl)\n",
    "This notebook loads a trained Naive Bayes model and TF-IDF vectorizer to predict the sentiment of new IMDb reviews."
   ]
  },
  {
   "cell_type": "code",
   "execution_count": null,
   "id": "407906e8",
   "metadata": {},
   "outputs": [],
   "source": [
    "\n",
    "import pickle\n",
    "import re\n",
    "from nltk.corpus import stopwords\n",
    "from nltk.stem import PorterStemmer\n",
    "import nltk\n",
    "nltk.download('stopwords')\n"
   ]
  },
  {
   "cell_type": "code",
   "execution_count": null,
   "id": "4ffae100",
   "metadata": {},
   "outputs": [],
   "source": [
    "\n",
    "# Load trained model\n",
    "with open('sentiment_model.pkl', 'rb') as f:\n",
    "    model = pickle.load(f)\n",
    "\n",
    "# Load TF-IDF vectorizer\n",
    "with open('tfidf_vectorizer.pkl', 'rb') as f:\n",
    "    vectorizer = pickle.load(f)\n"
   ]
  },
  {
   "cell_type": "code",
   "execution_count": null,
   "id": "3e83c471",
   "metadata": {},
   "outputs": [],
   "source": [
    "\n",
    "def predict_sentiment(text):\n",
    "    stop_words = set(stopwords.words('english'))\n",
    "    stemmer = PorterStemmer()\n",
    "\n",
    "    # Clean text\n",
    "    text = re.sub(r'<.*?>', '', text)\n",
    "    text = re.sub(r'[^a-zA-Z]', ' ', text)\n",
    "    text = text.lower()\n",
    "    tokens = text.split()\n",
    "    tokens = [stemmer.stem(word) for word in tokens if word not in stop_words]\n",
    "    clean_text = ' '.join(tokens)\n",
    "\n",
    "    # Vectorize\n",
    "    vector = vectorizer.transform([clean_text])\n",
    "\n",
    "    # Predict\n",
    "    result = model.predict(vector)\n",
    "\n",
    "    return \"Positive 😊\" if result[0] == 1 else \"Negative 😞\"\n"
   ]
  },
  {
   "cell_type": "code",
   "execution_count": null,
   "id": "4c78dd50",
   "metadata": {},
   "outputs": [],
   "source": [
    "\n",
    "# Example usage:\n",
    "predict_sentiment(\"I absolutely loved this movie, it was fantastic!\")\n"
   ]
  }
 ],
 "metadata": {},
 "nbformat": 4,
 "nbformat_minor": 5
}
